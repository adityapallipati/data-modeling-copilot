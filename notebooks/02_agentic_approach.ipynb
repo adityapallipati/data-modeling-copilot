{
 "cells": [
  {
   "cell_type": "markdown",
   "metadata": {},
   "source": [
    "# Agentic Approach to Our Data Modeling Copilot\n",
    "\n",
    "AI Agents are autonomous systems designed to complete repetitive work that would otherwise be done by a human. We can use LangGraph to create agents that will operate in a certain flow according to a graph we compile of various nodes and edges. These can have different conditional requirements to execute or loop through for a better overall response from an LLM. We will also be incorporating tools within our agents. Tools are essentially functions made available to an LLM that can be called by the LLM in order to execute specific tasks like an API call, data preprocessing, data validation, and so on."
   ]
  },
  {
   "cell_type": "markdown",
   "metadata": {},
   "source": [
    "### **Setup**"
   ]
  },
  {
   "cell_type": "code",
   "execution_count": 12,
   "metadata": {},
   "outputs": [],
   "source": [
    "import sys\n",
    "from pathlib import Path\n",
    "sys.path.append('src/')\n",
    "\n",
    "import utils\n",
    "from langgraph.graph import StateGraph, END\n",
    "from typing import TypedDict, List, Dict, Any, AsyncGenerator\n",
    "import json\n",
    "import warnings\n",
    "\n",
    "# Ignore Warnings\n",
    "warnings.filterwarnings(\"ignore\")"
   ]
  },
  {
   "cell_type": "markdown",
   "metadata": {},
   "source": [
    "### **Plan of Action**\n",
    "\n",
    "We will attempt to create 4 seperate agents which will work together to complete our end goal of data modeling.\n",
    "\n",
    "1. DocumentProcessor Agent\n",
    "   - Processes data modeling guidelines\n",
    "   - Manages vector store updates\n",
    "   - Retrieves relevant context\n",
    "\n",
    "2. SchemaAnalyzer Agent\n",
    "   - Analyzes CSV schema\n",
    "   - Identifies column patterns\n",
    "   - Queries knowledge graph\n",
    "\n",
    "3. StandardsEnforcer Agent\n",
    "   - Applies naming conventions\n",
    "   - Validates data types\n",
    "   - Ensures consistency\n",
    "\n",
    "4. QualityChecker Agent\n",
    "   - Validates transformations\n",
    "   - Checks business rules\n",
    "   - Suggests improvements"
   ]
  },
  {
   "cell_type": "code",
   "execution_count": 2,
   "metadata": {},
   "outputs": [],
   "source": [
    "# Define our state type\n",
    "class AgentState(TypedDict):\n",
    "    column_name: str\n",
    "    original_schema: Dict[str, Any]\n",
    "    retrieved_context: List[str]\n",
    "    proposed_changes: Dict[str, Any]\n",
    "    validation_results: Dict[str, Any]\n",
    "    final_output: Dict[str, Any]\n"
   ]
  },
  {
   "cell_type": "code",
   "execution_count": 3,
   "metadata": {},
   "outputs": [
    {
     "name": "stdout",
     "output_type": "stream",
     "text": [
      "Initializing components...\n"
     ]
    }
   ],
   "source": [
    "print(\"Initializing components...\")\n",
    "model_loader = utils.ModelLoader()\n",
    "vector_store = utils.VectorStoreManager()\n",
    "graph_manager = utils.KnowledgeGraphManager()"
   ]
  },
  {
   "cell_type": "code",
   "execution_count": 4,
   "metadata": {},
   "outputs": [
    {
     "name": "stderr",
     "output_type": "stream",
     "text": [
      "You are using the default legacy behaviour of the <class 'transformers.models.t5.tokenization_t5.T5Tokenizer'>. This is expected, and simply means that the `legacy` (previous) behavior will be used so nothing changes for you. If you want to use the new behaviour, set `legacy=False`. This should only be set if you understand what it means, and thoroughly read the reason why this was added as explained in https://github.com/huggingface/transformers/pull/24565\n"
     ]
    },
    {
     "name": "stdout",
     "output_type": "stream",
     "text": [
      "\n",
      "Loading models...\n"
     ]
    },
    {
     "name": "stderr",
     "output_type": "stream",
     "text": [
      "No sentence-transformers model found with name ../models/all-mpnet-base-v2. Creating a new one with mean pooling.\n"
     ]
    }
   ],
   "source": [
    "print(\"\\nLoading models...\")\n",
    "llm, tokenizer = model_loader.load_flan_t5()\n",
    "embedding_model = model_loader.load_mpnet()\n",
    "knowledge_graph = graph_manager.load_graph()"
   ]
  },
  {
   "cell_type": "code",
   "execution_count": 5,
   "metadata": {},
   "outputs": [
    {
     "name": "stdout",
     "output_type": "stream",
     "text": [
      "\n",
      "Setting up vector store...\n",
      "No existing collection to delete: Collection data_modeling_rules_mpnet does not exist.\n",
      "Created new collection\n",
      "\n",
      "Loading guidelines...\n",
      "Found 9 guideline chunks\n",
      "\n",
      "Generating embeddings...\n",
      "\n",
      "Adding to collection...\n",
      "✓ Vector store setup complete\n"
     ]
    }
   ],
   "source": [
    "print(\"\\nSetting up vector store...\")\n",
    "try:\n",
    "    # First explicitly delete if exists\n",
    "    try:\n",
    "        vector_store.client.delete_collection(\"data_modeling_rules_mpnet\")\n",
    "        print(\"Deleted existing collection\")\n",
    "    except Exception as e:\n",
    "        print(f\"No existing collection to delete: {e}\")\n",
    "\n",
    "    # Wait a moment to ensure cleanup\n",
    "    import time\n",
    "    time.sleep(1)\n",
    "    \n",
    "    # Create new collection\n",
    "    collection = vector_store.client.create_collection(\n",
    "        name=\"data_modeling_rules_mpnet\",\n",
    "        metadata={\"description\": \"Data modeling standards with MPNet embeddings\"}\n",
    "    )\n",
    "    print(\"Created new collection\")\n",
    "    \n",
    "    print(\"\\nLoading guidelines...\")\n",
    "    guidelines = utils.DataProcessor.chunk_guidelines(\"../data/raw/data_modeling_guidelines.txt\")\n",
    "    print(f\"Found {len(guidelines)} guideline chunks\")\n",
    "    \n",
    "    print(\"\\nGenerating embeddings...\")\n",
    "    embeddings = embedding_model.encode(guidelines)\n",
    "    ids = [f\"guideline_{i}\" for i in range(len(guidelines))]\n",
    "    \n",
    "    print(\"\\nAdding to collection...\")\n",
    "    collection.add(\n",
    "        embeddings=embeddings.tolist(),\n",
    "        documents=guidelines,\n",
    "        ids=ids,\n",
    "        metadatas=[{\"source\": \"guidelines\", \"chunk\": i} for i in range(len(guidelines))]\n",
    "    )\n",
    "    print(\"✓ Vector store setup complete\")\n",
    "    \n",
    "except Exception as e:\n",
    "    print(f\"Error during setup: {e}\")\n",
    "    raise"
   ]
  },
  {
   "cell_type": "code",
   "execution_count": 16,
   "metadata": {},
   "outputs": [],
   "source": [
    "class DocumentProcessorAgent:\n",
    "    def __init__(self, embedding_model, collection):\n",
    "        self.embedding_model = embedding_model\n",
    "        self.collection = collection\n",
    "    \n",
    "    def __call__(self, state: AgentState) -> AgentState:\n",
    "        \"\"\"Process guidelines and retrieve relevant context\"\"\"\n",
    "        query_embedding = self.embedding_model.encode([state[\"column_name\"]])\n",
    "        results = self.collection.query(\n",
    "            query_embeddings=query_embedding.tolist(),\n",
    "            n_results=2\n",
    "        )\n",
    "        \n",
    "        state[\"retrieved_context\"] = results['documents'][0]\n",
    "        return state"
   ]
  },
  {
   "cell_type": "code",
   "execution_count": 17,
   "metadata": {},
   "outputs": [],
   "source": [
    "class SchemaAnalyzerAgent:\n",
    "    def __init__(self, knowledge_graph):\n",
    "        self.knowledge_graph = knowledge_graph\n",
    "    \n",
    "    def __call__(self, state: AgentState) -> AgentState:\n",
    "        \"\"\"Analyze column and query knowledge graph\"\"\"\n",
    "        node_type, properties = utils.KnowledgeGraphManager.find_column_type(\n",
    "            self.knowledge_graph,\n",
    "            state[\"column_name\"]\n",
    "        )\n",
    "        \n",
    "        state[\"proposed_changes\"] = {\n",
    "            \"data_type\": node_type,\n",
    "            \"properties\": properties\n",
    "        }\n",
    "        return state"
   ]
  },
  {
   "cell_type": "code",
   "execution_count": 18,
   "metadata": {},
   "outputs": [],
   "source": [
    "class StandardsEnforcerAgent:\n",
    "    def __init__(self, llm, tokenizer):\n",
    "        self.llm = llm\n",
    "        self.tokenizer = tokenizer\n",
    "    \n",
    "    def __call__(self, state: AgentState) -> AgentState:\n",
    "        \"\"\"Apply standards and generate suggestions\"\"\"\n",
    "        context = \"\\n\".join(state[\"retrieved_context\"])\n",
    "        properties = json.dumps(state[\"proposed_changes\"])\n",
    "        \n",
    "        prompt = f\"\"\"Based on these guidelines:\n",
    "{context}\n",
    "\n",
    "And these properties:\n",
    "{properties}\n",
    "\n",
    "Standardize this column name: {state[\"column_name\"]}\n",
    "\"\"\"\n",
    "        \n",
    "        inputs = self.tokenizer(prompt, return_tensors=\"pt\")\n",
    "        if torch.backends.mps.is_available():\n",
    "            inputs = {k: v.to('mps') for k, v in inputs.items()}\n",
    "        \n",
    "        outputs = self.llm.generate(**inputs, max_length=50)\n",
    "        result = self.tokenizer.decode(outputs[0], skip_special_tokens=True)\n",
    "        \n",
    "        state[\"final_output\"] = {\n",
    "            \"original_name\": state[\"column_name\"],\n",
    "            \"suggested_name\": result,\n",
    "            \"data_type\": state[\"proposed_changes\"][\"data_type\"],\n",
    "            \"properties\": state[\"proposed_changes\"][\"properties\"]\n",
    "        }\n",
    "        return state"
   ]
  },
  {
   "cell_type": "code",
   "execution_count": 19,
   "metadata": {},
   "outputs": [],
   "source": [
    "# Create workflow\n",
    "workflow = StateGraph(AgentState)"
   ]
  },
  {
   "cell_type": "code",
   "execution_count": 20,
   "metadata": {},
   "outputs": [],
   "source": [
    "# Add nodes - now they're callable\n",
    "workflow.add_node(\"process_documents\", DocumentProcessorAgent(embedding_model, collection))\n",
    "workflow.add_node(\"analyze_schema\", SchemaAnalyzerAgent(knowledge_graph))\n",
    "workflow.add_node(\"enforce_standards\", StandardsEnforcerAgent(llm, tokenizer))\n",
    "\n",
    "# Add edges\n",
    "workflow.add_edge('process_documents', 'analyze_schema')\n",
    "workflow.add_edge('analyze_schema', 'enforce_standards')\n",
    "workflow.add_edge('enforce_standards', END)  # Add explicit end\n",
    "\n",
    "# Set entry point\n",
    "workflow.set_entry_point(\"process_documents\")\n",
    "\n",
    "# Compile workflow\n",
    "app = workflow.compile()"
   ]
  },
  {
   "cell_type": "code",
   "execution_count": 21,
   "metadata": {},
   "outputs": [],
   "source": [
    "def test_workflow():\n",
    "    test_columns = [\n",
    "        \"feat_imp_age\",\n",
    "        \"model_score\",\n",
    "        \"dt_last_active\",\n",
    "        \"cust_id\"\n",
    "    ]\n",
    "    \n",
    "    results = []\n",
    "    for column in test_columns:\n",
    "        initial_state = AgentState(\n",
    "            column_name=column,\n",
    "            original_schema={},\n",
    "            retrieved_context=[],\n",
    "            proposed_changes={},\n",
    "            validation_results={},\n",
    "            final_output={}\n",
    "        )\n",
    "        \n",
    "        final_state = app.invoke(initial_state)\n",
    "        results.append(final_state[\"final_output\"])\n",
    "        print(f\"\\nResults for {column}:\")\n",
    "        print(json.dumps(final_state[\"final_output\"], indent=2))\n",
    "    \n",
    "    return results"
   ]
  },
  {
   "cell_type": "code",
   "execution_count": 25,
   "metadata": {},
   "outputs": [
    {
     "name": "stdout",
     "output_type": "stream",
     "text": [
      "Mermaid Graph Definition:\n",
      "%%{init: {'flowchart': {'curve': 'linear'}}}%%\n",
      "graph TD;\n",
      "\t__start__([<p>__start__</p>]):::first\n",
      "\tprocess_documents(process_documents)\n",
      "\tanalyze_schema(analyze_schema)\n",
      "\tenforce_standards(enforce_standards)\n",
      "\t__end__([<p>__end__</p>]):::last\n",
      "\t__start__ --> process_documents;\n",
      "\tanalyze_schema --> enforce_standards;\n",
      "\tenforce_standards --> __end__;\n",
      "\tprocess_documents --> analyze_schema;\n",
      "\tclassDef default fill:#f2f0ff,line-height:1.2\n",
      "\tclassDef first fill-opacity:0\n",
      "\tclassDef last fill:#bfb6fc\n",
      "\n",
      "\n",
      "Rendered Graph:\n"
     ]
    },
    {
     "data": {
      "image/jpeg": "[encoded data removed]",
      "text/plain": [
       "<IPython.core.display.Image object>"
      ]
     },
     "metadata": {},
     "output_type": "display_data"
    }
   ],
   "source": [
    "# Visualize LangGraph workflow using Mermaid\n",
    "print(\"Mermaid Graph Definition:\")\n",
    "print(app.get_graph().draw_mermaid())\n",
    "\n",
    "print(\"\\nRendered Graph:\")\n",
    "from IPython.display import Image, display\n",
    "from langchain_core.runnables.graph import CurveStyle, MermaidDrawMethod, NodeStyles\n",
    "\n",
    "# Simplified visualization without custom styling\n",
    "display(\n",
    "    Image(\n",
    "        app.get_graph().draw_mermaid_png(\n",
    "            draw_method=MermaidDrawMethod.API\n",
    "        )\n",
    "    )\n",
    ")"
   ]
  },
  {
   "cell_type": "code",
   "execution_count": 27,
   "metadata": {},
   "outputs": [
    {
     "name": "stdout",
     "output_type": "stream",
     "text": [
      "\n",
      "Results for feat_imp_age:\n",
      "{\n",
      "  \"original_name\": \"feat_imp_age\",\n",
      "  \"suggested_name\": \"----------------------------------------------------------------------------------------------------------------------------------------------\",\n",
      "  \"data_type\": \"FEATURE_IMPORTANCE\",\n",
      "  \"properties\": {\n",
      "    \"type\": \"NUMBER(10,8)\",\n",
      "    \"nullability\": \"N\",\n",
      "    \"pattern\": [\n",
      "      \"feat.*imp\",\n",
      "      \"importance\"\n",
      "    ],\n",
      "    \"category\": \"ML_DOMAIN\",\n",
      "    \"requires\": [\n",
      "      \"SCORE\",\n",
      "      \"METADATA\"\n",
      "    ],\n",
      "    \"format\": \"NUMBER(10,8)\",\n",
      "    \"description\": \"Measure of feature contribution to model\"\n",
      "  }\n",
      "}\n",
      "\n",
      "Results for model_score:\n",
      "{\n",
      "  \"original_name\": \"model_score\",\n",
      "  \"suggested_name\": \"Model\",\n",
      "  \"data_type\": \"MODEL_SCORE\",\n",
      "  \"properties\": {\n",
      "    \"requires\": [\n",
      "      \"CONFIDENCE\",\n",
      "      \"METADATA\"\n",
      "    ],\n",
      "    \"format\": \"NUMBER(10,8)\",\n",
      "    \"description\": \"Model prediction score\",\n",
      "    \"pattern\": [\n",
      "      \"model.*score\",\n",
      "      \"prediction\"\n",
      "    ],\n",
      "    \"category\": \"ML_DOMAIN\"\n",
      "  }\n",
      "}\n",
      "\n",
      "Results for dt_last_active:\n",
      "{\n",
      "  \"original_name\": \"dt_last_active\",\n",
      "  \"suggested_name\": \"-DATE\",\n",
      "  \"data_type\": \"DATE\",\n",
      "  \"properties\": {\n",
      "    \"type\": \"DATE\",\n",
      "    \"nullability\": \"N\",\n",
      "    \"pattern\": [\n",
      "      \"dt_\",\n",
      "      \"date\",\n",
      "      \"timestamp\"\n",
      "    ],\n",
      "    \"category\": \"DATA_TYPE\"\n",
      "  }\n",
      "}\n",
      "\n",
      "Results for cust_id:\n",
      "{\n",
      "  \"original_name\": \"cust_id\",\n",
      "  \"suggested_name\": \"----------------------------------------------------------------------------------------------------------------------------------------------\",\n",
      "  \"data_type\": \"IDENTIFIER\",\n",
      "  \"properties\": {\n",
      "    \"type\": \"VARCHAR(50)\",\n",
      "    \"nullability\": \"N\",\n",
      "    \"pattern\": [\n",
      "      \"_id$\",\n",
      "      \"id$\",\n",
      "      \"_num$\"\n",
      "    ],\n",
      "    \"category\": \"DATA_TYPE\"\n",
      "  }\n",
      "}\n"
     ]
    }
   ],
   "source": [
    "import torch\n",
    "\n",
    "results = test_workflow()"
   ]
  },
  {
   "cell_type": "code",
   "execution_count": 43,
   "metadata": {},
   "outputs": [
    {
     "name": "stdout",
     "output_type": "stream",
     "text": [
      "\n",
      "Rendered Graph:\n"
     ]
    },
    {
     "data": {
      "image/jpeg": "[encoded data removed]",
      "text/plain": [
       "<IPython.core.display.Image object>"
      ]
     },
     "metadata": {},
     "output_type": "display_data"
    }
   ],
   "source": [
    "from langgraph.graph import StateGraph, END\n",
    "from typing import TypedDict, Dict\n",
    "from IPython.display import Image, display\n",
    "\n",
    "# Define state\n",
    "class AgentState(TypedDict):\n",
    "    input_type: str\n",
    "    column_name: str\n",
    "    validate_length: bool\n",
    "    rag_context: Dict\n",
    "    graph_results: Dict\n",
    "    confidence_score: float\n",
    "    output_format: str\n",
    "    final_output: Dict\n",
    "\n",
    "# Create workflow\n",
    "workflow = StateGraph(AgentState)\n",
    "\n",
    "# Add nodes (placeholders for actual implementations)\n",
    "workflow.add_node(\"preprocess\", lambda x: x)\n",
    "workflow.add_node(\"column_analysis\", lambda x: x)\n",
    "workflow.add_node(\"rag_process\", lambda x: x)\n",
    "workflow.add_node(\"graph_rag\", lambda x: x)\n",
    "workflow.add_node(\"confidence_evaluation\", lambda x: x)\n",
    "workflow.add_node(\"human_review\", lambda x: x)\n",
    "workflow.add_node(\"generate_model\", lambda x: x)\n",
    "\n",
    "# Define conditional edge function for confidence evaluation\n",
    "def confidence_router(state: AgentState) -> str:\n",
    "    return \"generate_model\" if state.get(\"confidence_score\", 0) > 0.8 else \"human_review\"\n",
    "\n",
    "# Add edges with simplified conditional logic\n",
    "workflow.add_edge(\"preprocess\", \"column_analysis\")\n",
    "workflow.add_edge(\"column_analysis\", \"rag_process\")\n",
    "workflow.add_edge(\"rag_process\", \"graph_rag\")\n",
    "workflow.add_edge(\"graph_rag\", \"confidence_evaluation\")\n",
    "workflow.add_conditional_edges(\"confidence_evaluation\", confidence_router)\n",
    "workflow.add_edge(\"human_review\", \"generate_model\")\n",
    "workflow.add_edge(\"generate_model\", END)\n",
    "\n",
    "# Set entry point\n",
    "workflow.set_entry_point(\"preprocess\")\n",
    "\n",
    "# Compile workflow\n",
    "app = workflow.compile()\n",
    "\n",
    "# Visualize\n",
    "print(\"\\nRendered Graph:\")\n",
    "display(\n",
    "    Image(\n",
    "        app.get_graph().draw_mermaid_png(\n",
    "            draw_method=MermaidDrawMethod.API\n",
    "        )\n",
    "    )\n",
    ")"
   ]
  },
  {
   "cell_type": "code",
   "execution_count": null,
   "metadata": {},
   "outputs": [],
   "source": []
  }
 ],
 "metadata": {
  "kernelspec": {
   "display_name": "dmc",
   "language": "python",
   "name": "python3"
  },
  "language_info": {
   "codemirror_mode": {
    "name": "ipython",
    "version": 3
   },
   "file_extension": ".py",
   "mimetype": "text/x-python",
   "name": "python",
   "nbconvert_exporter": "python",
   "pygments_lexer": "ipython3",
   "version": "3.11.10"
  }
 },
 "nbformat": 4,
 "nbformat_minor": 2
}
